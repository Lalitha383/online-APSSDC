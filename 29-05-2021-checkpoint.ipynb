{
 "cells": [
  {
   "cell_type": "code",
   "execution_count": 3,
   "id": "447b7f6f",
   "metadata": {},
   "outputs": [
    {
     "name": "stdout",
     "output_type": "stream",
     "text": [
      "Enter the Number:11\n",
      "its prime number 11\n"
     ]
    }
   ],
   "source": [
    "# prime number its divisible by itself and 1\n",
    "\n",
    "num=int(input(\"Enter the Number:\"))\n",
    "if num>0:\n",
    "    for i in range(2,num+1):\n",
    "        print(\"its prime number\",num)\n",
    "        break\n",
    "    else:\n",
    "        print(\"not prime number\")\n",
    "    "
   ]
  },
  {
   "cell_type": "code",
   "execution_count": 9,
   "id": "778d2919",
   "metadata": {},
   "outputs": [
    {
     "name": "stdout",
     "output_type": "stream",
     "text": [
      "Enter a number:12466\n",
      "66421\n"
     ]
    }
   ],
   "source": [
    "# reverse of a number 123=321\n",
    "# reverse=reverse*10+remainder\n",
    "\n",
    "num=int(input(\"Enter a number:\"))\n",
    "rev=0\n",
    "while num>0:\n",
    "    remainder=num%10\n",
    "    rev=rev*10+remainder\n",
    "    num=num//10\n",
    "print(rev)"
   ]
  },
  {
   "cell_type": "code",
   "execution_count": 11,
   "id": "3503f938",
   "metadata": {},
   "outputs": [
    {
     "name": "stdout",
     "output_type": "stream",
     "text": [
      "0\n",
      "1\n",
      "2\n",
      "3\n",
      "4\n",
      "its pass 5\n",
      "6\n",
      "7\n",
      "8\n",
      "9\n"
     ]
    }
   ],
   "source": [
    "for i in range(10):\n",
    "    if i==5:\n",
    "        print(\"its pass\",i)\n",
    "        pass\n",
    "    else:\n",
    "        print(i)"
   ]
  },
  {
   "cell_type": "code",
   "execution_count": 12,
   "id": "9c122ecd",
   "metadata": {},
   "outputs": [
    {
     "name": "stdout",
     "output_type": "stream",
     "text": [
      "Enter a Number:6\n",
      "720\n"
     ]
    }
   ],
   "source": [
    "num=int(input(\"Enter a Number:\"))\n",
    "fact=1\n",
    "for i in range(1,num+1):\n",
    "    fact=fact*i\n",
    "print(fact)"
   ]
  },
  {
   "cell_type": "markdown",
   "id": "665a0a00",
   "metadata": {},
   "source": [
    "# Nested Loops\n"
   ]
  },
  {
   "cell_type": "code",
   "execution_count": 21,
   "id": "9d472f32",
   "metadata": {},
   "outputs": [
    {
     "name": "stdout",
     "output_type": "stream",
     "text": [
      "1\n",
      "12\n",
      "123\n",
      "1234\n",
      "12345\n"
     ]
    }
   ],
   "source": [
    "for i in range(1,6):\n",
    "    for k in range(1,i+1):\n",
    "        print(k,end=\"\")\n",
    "    print()"
   ]
  },
  {
   "cell_type": "code",
   "execution_count": 26,
   "id": "2e422fc6",
   "metadata": {},
   "outputs": [
    {
     "name": "stdout",
     "output_type": "stream",
     "text": [
      "['False', 'None', 'True', 'and', 'as', 'assert', 'async', 'await', 'break', 'class', 'continue', 'def', 'del', 'elif', 'else', 'except', 'finally', 'for', 'from', 'global', 'if', 'import', 'in', 'is', 'lambda', 'nonlocal', 'not', 'or', 'pass', 'raise', 'return', 'try', 'while', 'with', 'yield']\n"
     ]
    }
   ],
   "source": [
    "import keyword\n",
    "print(keyword.kwlist)"
   ]
  },
  {
   "cell_type": "code",
   "execution_count": 29,
   "id": "8bde778f",
   "metadata": {},
   "outputs": [
    {
     "name": "stdout",
     "output_type": "stream",
     "text": [
      "65\n",
      "90\n",
      "97\n",
      "122\n",
      "z\n",
      "\u0003\n"
     ]
    }
   ],
   "source": [
    "# chr()\n",
    "# ord()\n",
    "print(ord('A'))\n",
    "print(ord('Z'))\n",
    "print(ord('a'))\n",
    "print(ord('z'))\n",
    "print(chr(122))\n",
    "print(chr(3))"
   ]
  },
  {
   "cell_type": "code",
   "execution_count": 34,
   "id": "69b8515a",
   "metadata": {},
   "outputs": [
    {
     "name": "stdout",
     "output_type": "stream",
     "text": [
      "A,B,C,D,E,F,G,H,I,J,K,L,M,N,O,P,Q,R,S,T,U,V,W,X,Y,Z,"
     ]
    }
   ],
   "source": [
    "for i in range(65,91):\n",
    "    print(chr(i),end=\",\")"
   ]
  },
  {
   "cell_type": "code",
   "execution_count": 33,
   "id": "acb50b4a",
   "metadata": {},
   "outputs": [
    {
     "name": "stdout",
     "output_type": "stream",
     "text": [
      "a,b,c,d,e,f,g,h,i,j,k,l,m,n,o,p,q,r,s,t,u,v,w,x,y,z,"
     ]
    }
   ],
   "source": [
    "for i in range(97,123):\n",
    "    print(chr(i),end=\",\")"
   ]
  },
  {
   "cell_type": "code",
   "execution_count": 52,
   "id": "acc67a8c",
   "metadata": {},
   "outputs": [
    {
     "name": "stdout",
     "output_type": "stream",
     "text": [
      "A\n",
      "BB\n",
      "CCC\n",
      "DDDD\n",
      "EEEEE\n"
     ]
    }
   ],
   "source": [
    "for i in range(65,70):\n",
    "    for k in range(65,i+1):\n",
    "        print(chr(i),end=\"\")\n",
    "    print()"
   ]
  },
  {
   "cell_type": "code",
   "execution_count": 47,
   "id": "12a0c18c",
   "metadata": {},
   "outputs": [
    {
     "name": "stdout",
     "output_type": "stream",
     "text": [
      "ABCDEF\n",
      "ABCDE\n",
      "ABCD\n",
      "ABC\n",
      "AB\n",
      "A\n"
     ]
    }
   ],
   "source": [
    "for i in range(70,64,-1):\n",
    "    for k in range(65,i+1):\n",
    "        print(chr(k),end=\"\")\n",
    "    print()"
   ]
  },
  {
   "cell_type": "code",
   "execution_count": 60,
   "id": "ecbbd9fc",
   "metadata": {},
   "outputs": [
    {
     "name": "stdout",
     "output_type": "stream",
     "text": [
      "Enter the number:153\n",
      "arm strong number\n"
     ]
    }
   ],
   "source": [
    "num=int(input(\"Enter the number:\"))\n",
    "l=str(num)\n",
    "sum=0\n",
    "check=num\n",
    "while num>0:\n",
    "    rem=num%10\n",
    "    sum=sum+rem**3\n",
    "    num=num//10\n",
    "if check==sum:\n",
    "    print(\"arm strong number\")\n",
    "else:\n",
    "    print(\"not\")"
   ]
  },
  {
   "cell_type": "code",
   "execution_count": 62,
   "id": "b0e86762",
   "metadata": {},
   "outputs": [
    {
     "name": "stdout",
     "output_type": "stream",
     "text": [
      "<class 'str'>\n"
     ]
    }
   ],
   "source": [
    "st=\"vignan women's clg\"\n",
    "print(type(st))"
   ]
  },
  {
   "cell_type": "code",
   "execution_count": 65,
   "id": "59e15162",
   "metadata": {},
   "outputs": [
    {
     "name": "stdout",
     "output_type": "stream",
     "text": [
      "v_i_g_n_a_n_ _w_o_m_e_n_'_s_ _c_l_g_"
     ]
    }
   ],
   "source": [
    "for i in st:\n",
    "    print(i,end=\"_\")"
   ]
  },
  {
   "cell_type": "code",
   "execution_count": 77,
   "id": "941ce64a",
   "metadata": {},
   "outputs": [
    {
     "name": "stdout",
     "output_type": "stream",
     "text": [
      "5\n",
      "o\n",
      "l\n",
      "l\n",
      "e\n",
      "h\n"
     ]
    }
   ],
   "source": [
    "l=\"hello\"\n",
    "print(len(l))\n",
    "print(l[-1])\n",
    "print(l[-2])\n",
    "print(l[-3])\n",
    "print(l[-4])\n",
    "print(l[-5])"
   ]
  },
  {
   "cell_type": "code",
   "execution_count": 86,
   "id": "25579dfc",
   "metadata": {},
   "outputs": [
    {
     "name": "stdout",
     "output_type": "stream",
     "text": [
      "an c\n"
     ]
    }
   ],
   "source": [
    "vgl=\"vignan college dvd\"\n",
    "print(vgl[4:8:])"
   ]
  },
  {
   "cell_type": "code",
   "execution_count": 84,
   "id": "b0b9f5cb",
   "metadata": {},
   "outputs": [
    {
     "name": "stdout",
     "output_type": "stream",
     "text": [
      "morning\n"
     ]
    }
   ],
   "source": [
    "l=\"good morning\"\n",
    "print(l[5:12])"
   ]
  },
  {
   "cell_type": "code",
   "execution_count": 87,
   "id": "d7d1959d",
   "metadata": {},
   "outputs": [
    {
     "name": "stdout",
     "output_type": "stream",
     "text": [
      "Vga' nttt fEgneigFrWmn\n"
     ]
    }
   ],
   "source": [
    "c=\"Vignan's Institute Of Engineering For Women\"\n",
    "print(c[::2])"
   ]
  },
  {
   "cell_type": "code",
   "execution_count": 91,
   "id": "f78f1764",
   "metadata": {},
   "outputs": [
    {
     "name": "stdout",
     "output_type": "stream",
     "text": [
      "nor ieg  utI'nV\n"
     ]
    }
   ],
   "source": [
    "c=\"Vignan's Institute Of Engineering For Women\"\n",
    "print(c[::-3])"
   ]
  },
  {
   "cell_type": "code",
   "execution_count": 94,
   "id": "f625337a",
   "metadata": {},
   "outputs": [
    {
     "name": "stdout",
     "output_type": "stream",
     "text": [
      "['__add__', '__class__', '__contains__', '__delattr__', '__dir__', '__doc__', '__eq__', '__format__', '__ge__', '__getattribute__', '__getitem__', '__getnewargs__', '__gt__', '__hash__', '__init__', '__init_subclass__', '__iter__', '__le__', '__len__', '__lt__', '__mod__', '__mul__', '__ne__', '__new__', '__reduce__', '__reduce_ex__', '__repr__', '__rmod__', '__rmul__', '__setattr__', '__sizeof__', '__str__', '__subclasshook__', 'capitalize', 'casefold', 'center', 'count', 'encode', 'endswith', 'expandtabs', 'find', 'format', 'format_map', 'index', 'isalnum', 'isalpha', 'isascii', 'isdecimal', 'isdigit', 'isidentifier', 'islower', 'isnumeric', 'isprintable', 'isspace', 'istitle', 'isupper', 'join', 'ljust', 'lower', 'lstrip', 'maketrans', 'partition', 'replace', 'rfind', 'rindex', 'rjust', 'rpartition', 'rsplit', 'rstrip', 'split', 'splitlines', 'startswith', 'strip', 'swapcase', 'title', 'translate', 'upper', 'zfill']\n"
     ]
    }
   ],
   "source": [
    "print(dir(str))"
   ]
  },
  {
   "cell_type": "code",
   "execution_count": 105,
   "id": "e230e660",
   "metadata": {},
   "outputs": [
    {
     "name": "stdout",
     "output_type": "stream",
     "text": [
      "4\n",
      "True\n",
      "False\n",
      "3\n",
      "35\n"
     ]
    }
   ],
   "source": [
    "l=\"Vignan's Institute Of Engineering For Women\"\n",
    "print(l.count('e'))\n",
    "print(l.endswith('n'))\n",
    "print(l.endswith('e'))\n",
    "print(l.find('n'))\n",
    "print(l.index('o'))"
   ]
  },
  {
   "cell_type": "code",
   "execution_count": 110,
   "id": "55311ede",
   "metadata": {},
   "outputs": [
    {
     "name": "stdout",
     "output_type": "stream",
     "text": [
      "True\n"
     ]
    }
   ],
   "source": [
    "l=\"123\"\n",
    "print(l.isalnum())"
   ]
  },
  {
   "cell_type": "code",
   "execution_count": 111,
   "id": "d84a1b2b",
   "metadata": {},
   "outputs": [
    {
     "name": "stdout",
     "output_type": "stream",
     "text": [
      "True\n"
     ]
    }
   ],
   "source": [
    "l=\"hello\"\n",
    "print(l.isalpha())"
   ]
  },
  {
   "cell_type": "code",
   "execution_count": 112,
   "id": "4956b71a",
   "metadata": {},
   "outputs": [
    {
     "name": "stdout",
     "output_type": "stream",
     "text": [
      "False\n"
     ]
    }
   ],
   "source": [
    "l=\"123@\"\n",
    "print(l.isdigit())"
   ]
  },
  {
   "cell_type": "code",
   "execution_count": 114,
   "id": "399d62c3",
   "metadata": {},
   "outputs": [
    {
     "name": "stdout",
     "output_type": "stream",
     "text": [
      "Lalli\n",
      "                      lalli                       \n"
     ]
    }
   ],
   "source": [
    "l=\"lalli\"\n",
    "print(l.capitalize())\n",
    "print(l.center(50))"
   ]
  },
  {
   "cell_type": "code",
   "execution_count": 121,
   "id": "952fea74",
   "metadata": {},
   "outputs": [
    {
     "name": "stdout",
     "output_type": "stream",
     "text": [
      "False\n",
      "True\n",
      "LALLI\n",
      "Lalli\n",
      "LALLI\n",
      "lalli\n"
     ]
    }
   ],
   "source": [
    "l=\"lalli\"\n",
    "print(l.isupper())\n",
    "print(l.islower())\n",
    "print(l.swapcase())\n",
    "print(l.title())\n",
    "print(l.upper())\n",
    "print(l.lower())\n"
   ]
  },
  {
   "cell_type": "code",
   "execution_count": null,
   "id": "1d19033b",
   "metadata": {},
   "outputs": [],
   "source": []
  }
 ],
 "metadata": {
  "kernelspec": {
   "display_name": "Python 3",
   "language": "python",
   "name": "python3"
  },
  "language_info": {
   "codemirror_mode": {
    "name": "ipython",
    "version": 3
   },
   "file_extension": ".py",
   "mimetype": "text/x-python",
   "name": "python",
   "nbconvert_exporter": "python",
   "pygments_lexer": "ipython3",
   "version": "3.8.8"
  }
 },
 "nbformat": 4,
 "nbformat_minor": 5
}
