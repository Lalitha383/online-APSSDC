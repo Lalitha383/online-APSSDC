{
 "cells": [
  {
   "cell_type": "code",
   "execution_count": 11,
   "id": "ba997d67",
   "metadata": {},
   "outputs": [
    {
     "name": "stdout",
     "output_type": "stream",
     "text": [
      "Hello world\n"
     ]
    }
   ],
   "source": [
    "print(\"Hello world\")"
   ]
  },
  {
   "cell_type": "code",
   "execution_count": 12,
   "id": "320af89d",
   "metadata": {},
   "outputs": [
    {
     "name": "stdout",
     "output_type": "stream",
     "text": [
      "lalliiiiii!!!!!!\n"
     ]
    }
   ],
   "source": [
    "print(\"lalliiiiii!!!!!!\")"
   ]
  },
  {
   "cell_type": "code",
   "execution_count": 13,
   "id": "fd5a4475",
   "metadata": {},
   "outputs": [
    {
     "name": "stdout",
     "output_type": "stream",
     "text": [
      "introvert\n"
     ]
    }
   ],
   "source": [
    "print(\"introvert\")"
   ]
  },
  {
   "cell_type": "code",
   "execution_count": 14,
   "id": "e14220b6",
   "metadata": {},
   "outputs": [
    {
     "name": "stdout",
     "output_type": "stream",
     "text": [
      "hi hello bye\n"
     ]
    }
   ],
   "source": [
    "print(\"hi hello bye\")"
   ]
  },
  {
   "cell_type": "code",
   "execution_count": 15,
   "id": "5e9dc530",
   "metadata": {},
   "outputs": [
    {
     "name": "stdout",
     "output_type": "stream",
     "text": [
      "ok\n"
     ]
    }
   ],
   "source": [
    "print(\"ok\")"
   ]
  },
  {
   "cell_type": "code",
   "execution_count": 1,
   "id": "f051c518",
   "metadata": {},
   "outputs": [
    {
     "name": "stdout",
     "output_type": "stream",
     "text": [
      "ok\n"
     ]
    }
   ],
   "source": [
    "\"hihii\"\n",
    "\n",
    "\"get lost\"\n",
    "\n",
    "\"ok\"\n",
    "\n",
    "print(\"ok\")\n",
    "\n"
   ]
  },
  {
   "cell_type": "markdown",
   "id": "459f74e3",
   "metadata": {},
   "source": [
    "# heading1\n",
    "## heading2\n",
    "### heading3\n",
    "#### heading4\n",
    "##### heading5\n",
    "###### heading6\n",
    "\n",
    "**bold text**\n",
    "*italic*\n",
    "***bold and italic***\n",
    "\n",
    "* list\n",
    "    * sublist1\n",
    "    * sublist2\n",
    "         * inner sublist\n",
    "         \n",
    ">1.ordered list1<br>\n",
    ">2.ordered list2\n"
   ]
  },
  {
   "cell_type": "code",
   "execution_count": 9,
   "id": "cbfa9d7a",
   "metadata": {},
   "outputs": [
    {
     "ename": "SyntaxError",
     "evalue": "invalid syntax (<ipython-input-9-d46af0abb5d5>, line 1)",
     "output_type": "error",
     "traceback": [
      "\u001b[1;36m  File \u001b[1;32m\"<ipython-input-9-d46af0abb5d5>\"\u001b[1;36m, line \u001b[1;32m1\u001b[0m\n\u001b[1;33m    <h1 style=\"color:violet;font-size:10px\">This is heading1</h1>\u001b[0m\n\u001b[1;37m    ^\u001b[0m\n\u001b[1;31mSyntaxError\u001b[0m\u001b[1;31m:\u001b[0m invalid syntax\n"
     ]
    }
   ],
   "source": [
    "<h1 style=\"color:violet;font-size:10px\">This is heading1</h1>"
   ]
  },
  {
   "cell_type": "code",
   "execution_count": 8,
   "id": "d7331a17",
   "metadata": {},
   "outputs": [
    {
     "ename": "SyntaxError",
     "evalue": "invalid syntax (<ipython-input-8-162a9367f95d>, line 1)",
     "output_type": "error",
     "traceback": [
      "\u001b[1;36m  File \u001b[1;32m\"<ipython-input-8-162a9367f95d>\"\u001b[1;36m, line \u001b[1;32m1\u001b[0m\n\u001b[1;33m    <img src=\"wall.jpeg\" alt=<dog image>\u001b[0m\n\u001b[1;37m    ^\u001b[0m\n\u001b[1;31mSyntaxError\u001b[0m\u001b[1;31m:\u001b[0m invalid syntax\n"
     ]
    }
   ],
   "source": [
    "<img src=\"wall.jpeg\" alt=<dog image>"
   ]
  },
  {
   "cell_type": "code",
   "execution_count": 10,
   "id": "dd3f2c51",
   "metadata": {},
   "outputs": [
    {
     "ename": "SyntaxError",
     "evalue": "invalid syntax (<ipython-input-10-63d75d2c65ac>, line 1)",
     "output_type": "error",
     "traceback": [
      "\u001b[1;36m  File \u001b[1;32m\"<ipython-input-10-63d75d2c65ac>\"\u001b[1;36m, line \u001b[1;32m1\u001b[0m\n\u001b[1;33m    <a href=\"https://www.google.com/\"\u001b[0m\n\u001b[1;37m    ^\u001b[0m\n\u001b[1;31mSyntaxError\u001b[0m\u001b[1;31m:\u001b[0m invalid syntax\n"
     ]
    }
   ],
   "source": [
    "<a href=\"https://www.google.com/\""
   ]
  },
  {
   "cell_type": "code",
   "execution_count": 11,
   "id": "ed1c9ad7",
   "metadata": {},
   "outputs": [
    {
     "name": "stdout",
     "output_type": "stream",
     "text": [
      "10\n",
      "20\n",
      "30\n"
     ]
    }
   ],
   "source": [
    "a=10\n",
    "print(a)\n",
    "b=20\n",
    "print(b)\n",
    "c=30\n",
    "print(c)"
   ]
  },
  {
   "cell_type": "code",
   "execution_count": 12,
   "id": "4ee7aa78",
   "metadata": {},
   "outputs": [
    {
     "name": "stdout",
     "output_type": "stream",
     "text": [
      "50\n"
     ]
    }
   ],
   "source": [
    "_=50\n",
    "print(_)"
   ]
  },
  {
   "cell_type": "code",
   "execution_count": 13,
   "id": "9970d75f",
   "metadata": {},
   "outputs": [
    {
     "name": "stdout",
     "output_type": "stream",
     "text": [
      "chandra\n"
     ]
    }
   ],
   "source": [
    "c1='chandra'\n",
    "print(c1)"
   ]
  },
  {
   "cell_type": "code",
   "execution_count": 22,
   "id": "d98c1b61",
   "metadata": {},
   "outputs": [
    {
     "name": "stdout",
     "output_type": "stream",
     "text": [
      "10\n",
      "<class 'int'>\n"
     ]
    }
   ],
   "source": [
    "c=10\n",
    "print(c)\n",
    "print(type(c))"
   ]
  },
  {
   "cell_type": "code",
   "execution_count": 21,
   "id": "caf68cb9",
   "metadata": {},
   "outputs": [
    {
     "name": "stdout",
     "output_type": "stream",
     "text": [
      "50.66\n",
      "<class 'float'>\n"
     ]
    }
   ],
   "source": [
    "l=50.66\n",
    "print(l)\n",
    "print(type(l))"
   ]
  },
  {
   "cell_type": "code",
   "execution_count": 23,
   "id": "173f3b98",
   "metadata": {},
   "outputs": [
    {
     "name": "stdout",
     "output_type": "stream",
     "text": [
      "lalli\n",
      "<class 'str'>\n"
     ]
    }
   ],
   "source": [
    "_c='lalli'\n",
    "print(_c)\n",
    "print(type(_c))"
   ]
  },
  {
   "cell_type": "code",
   "execution_count": 24,
   "id": "c562dc25",
   "metadata": {},
   "outputs": [
    {
     "name": "stdout",
     "output_type": "stream",
     "text": [
      "6j\n",
      "<class 'complex'>\n"
     ]
    }
   ],
   "source": [
    "c=6j\n",
    "print(c)\n",
    "print(type(c))"
   ]
  },
  {
   "cell_type": "markdown",
   "id": "47687a77",
   "metadata": {},
   "source": [
    "# typecasting\n"
   ]
  },
  {
   "cell_type": "code",
   "execution_count": 25,
   "id": "922b0bd7",
   "metadata": {},
   "outputs": [
    {
     "name": "stdout",
     "output_type": "stream",
     "text": [
      "10\n",
      "<class 'int'>\n",
      "10.0\n",
      "<class 'float'>\n"
     ]
    }
   ],
   "source": [
    "a=10\n",
    "print(a)\n",
    "print(type(a))\n",
    "b=float(a)\n",
    "print(b)\n",
    "print(type(b))"
   ]
  },
  {
   "cell_type": "code",
   "execution_count": 29,
   "id": "94840787",
   "metadata": {},
   "outputs": [
    {
     "name": "stdout",
     "output_type": "stream",
     "text": [
      "20.0\n",
      "<class 'float'>\n",
      "20.0\n",
      "<class 'str'>\n"
     ]
    }
   ],
   "source": [
    "a=20\n",
    "print(float(a))\n",
    "print(type(float(a)))\n",
    "print(str(float(a)))\n",
    "print(type(str(float(a))))"
   ]
  },
  {
   "cell_type": "code",
   "execution_count": 35,
   "id": "2e96e3a2",
   "metadata": {},
   "outputs": [
    {
     "name": "stdout",
     "output_type": "stream",
     "text": [
      "<class 'float'>\n",
      "20\n",
      "<class 'int'>\n"
     ]
    }
   ],
   "source": [
    "l=20.67\n",
    "print(type(l))\n",
    "print(int(l))\n",
    "print(type(int(l)))"
   ]
  },
  {
   "cell_type": "code",
   "execution_count": 36,
   "id": "361606e9",
   "metadata": {},
   "outputs": [
    {
     "name": "stdout",
     "output_type": "stream",
     "text": [
      "20.67\n"
     ]
    }
   ],
   "source": [
    "l=20.67\n",
    "print(str(l))"
   ]
  },
  {
   "cell_type": "code",
   "execution_count": 47,
   "id": "82c63462",
   "metadata": {},
   "outputs": [
    {
     "name": "stdout",
     "output_type": "stream",
     "text": [
      "<class 'str'>\n",
      "<class 'float'>\n",
      "<class 'int'>\n",
      "<class 'complex'>\n"
     ]
    }
   ],
   "source": [
    "l=\"6\"\n",
    "print(type(l))\n",
    "print(type(float(l)))\n",
    "print(type(int(l)))\n",
    "print(type(complex(l)))"
   ]
  },
  {
   "cell_type": "code",
   "execution_count": 71,
   "id": "a7d67298",
   "metadata": {},
   "outputs": [
    {
     "data": {
      "text/plain": [
       "'hi ppl bye'"
      ]
     },
     "execution_count": 71,
     "metadata": {},
     "output_type": "execute_result"
    }
   ],
   "source": [
    "# print(\"hi\")\n",
    "\"\"\"hi ppl bye\"\"\""
   ]
  },
  {
   "cell_type": "code",
   "execution_count": 52,
   "id": "26aecf2e",
   "metadata": {},
   "outputs": [
    {
     "name": "stdout",
     "output_type": "stream",
     "text": [
      "ENTER A VALUE :lalls\n",
      "lalls\n",
      "<class 'str'>\n"
     ]
    }
   ],
   "source": [
    "l=input(\"ENTER A VALUE :\")\n",
    "print(l)\n",
    "print(type(l))"
   ]
  },
  {
   "cell_type": "code",
   "execution_count": 57,
   "id": "ad6c3f1c",
   "metadata": {},
   "outputs": [
    {
     "ename": "SyntaxError",
     "evalue": "invalid syntax (<ipython-input-57-46ad03d8bfb8>, line 2)",
     "output_type": "error",
     "traceback": [
      "\u001b[1;36m  File \u001b[1;32m\"<ipython-input-57-46ad03d8bfb8>\"\u001b[1;36m, line \u001b[1;32m2\u001b[0m\n\u001b[1;33m    print(type(l))\u001b[0m\n\u001b[1;37m    ^\u001b[0m\n\u001b[1;31mSyntaxError\u001b[0m\u001b[1;31m:\u001b[0m invalid syntax\n"
     ]
    }
   ],
   "source": [
    "l=int(input(\"enter int value :\")\n",
    "print(type(l))"
   ]
  },
  {
   "cell_type": "code",
   "execution_count": 58,
   "id": "3fcb79b5",
   "metadata": {},
   "outputs": [
    {
     "name": "stdout",
     "output_type": "stream",
     "text": [
      "enter float value :90.0\n",
      "<class 'float'>\n"
     ]
    }
   ],
   "source": [
    "l=float(input(\"enter float value :\"))\n",
    "print(type(l))"
   ]
  },
  {
   "cell_type": "code",
   "execution_count": 70,
   "id": "cea7566c",
   "metadata": {},
   "outputs": [
    {
     "name": "stdout",
     "output_type": "stream",
     "text": [
      "enter a value :4\n",
      "enter b value :5\n",
      "9\n",
      "addition of a and b is  9\n",
      "addition of 4 and 5 is :9\n",
      "addition of 4 and 5 is :9\n",
      "addition of 9 and 5 is :4\n"
     ]
    }
   ],
   "source": [
    "a=int(input(\"enter a value :\"))\n",
    "b=int(input(\"enter b value :\"))\n",
    "print(a+b)\n",
    "print(\"addition of a and b is \",a+b)\n",
    "print(\"addition of %d and %d is :%d\"%(a,b,a+b))\n",
    "print(\"addition of {} and {} is :{}\".format(a,b,a+b))\n",
    "print(\"addition of {2} and {1} is :{0}\".format(a,b,a+b))"
   ]
  },
  {
   "cell_type": "markdown",
   "id": "8d398909",
   "metadata": {},
   "source": [
    "# Arithmetic operators(+,*,-,/,//,%)"
   ]
  },
  {
   "cell_type": "code",
   "execution_count": 2,
   "id": "effccf02",
   "metadata": {},
   "outputs": [
    {
     "name": "stdout",
     "output_type": "stream",
     "text": [
      "42\n",
      "18\n",
      "360\n",
      "2.5\n",
      "2\n",
      "6\n"
     ]
    }
   ],
   "source": [
    "a=30\n",
    "b=12\n",
    "print(a+b)\n",
    "print(a-b)\n",
    "print(a*b)\n",
    "print(a/b)\n",
    "print(a//b)\n",
    "print(a%b)"
   ]
  },
  {
   "cell_type": "markdown",
   "id": "8a0318dc",
   "metadata": {},
   "source": [
    "# Logical operators(and,or,not)"
   ]
  },
  {
   "cell_type": "code",
   "execution_count": 5,
   "id": "24dfc17f",
   "metadata": {},
   "outputs": [
    {
     "name": "stdout",
     "output_type": "stream",
     "text": [
      "True\n",
      "False\n",
      "False\n",
      "False\n"
     ]
    }
   ],
   "source": [
    "print(True and True)\n",
    "print(True and False)\n",
    "print(False and True)\n",
    "print(False and False)"
   ]
  },
  {
   "cell_type": "code",
   "execution_count": 9,
   "id": "377071f4",
   "metadata": {},
   "outputs": [
    {
     "name": "stdout",
     "output_type": "stream",
     "text": [
      "True\n",
      "True\n",
      "True\n",
      "False\n"
     ]
    },
    {
     "data": {
      "text/plain": [
       "True"
      ]
     },
     "execution_count": 9,
     "metadata": {},
     "output_type": "execute_result"
    }
   ],
   "source": [
    "print(True or True)\n",
    "print(True or False)\n",
    "print(False or True)\n",
    "print(False or False)\n",
    "x=10\n",
    "y=20\n",
    "x is not y"
   ]
  },
  {
   "cell_type": "code",
   "execution_count": 13,
   "id": "4118280c",
   "metadata": {},
   "outputs": [
    {
     "data": {
      "text/plain": [
       "False"
      ]
     },
     "execution_count": 13,
     "metadata": {},
     "output_type": "execute_result"
    }
   ],
   "source": [
    "x=20\n",
    "y=20\n",
    "x is not y"
   ]
  },
  {
   "cell_type": "markdown",
   "id": "cea5eacc",
   "metadata": {},
   "source": [
    "# Assignment operators (=,*=,+=,-=,/=,%=)"
   ]
  },
  {
   "cell_type": "code",
   "execution_count": 20,
   "id": "ba8fd66b",
   "metadata": {},
   "outputs": [
    {
     "name": "stdout",
     "output_type": "stream",
     "text": [
      "20\n",
      "200\n",
      "150\n",
      "15.0\n",
      "5.0\n"
     ]
    }
   ],
   "source": [
    "a=10\n",
    "a+=10\n",
    "print(a)\n",
    "a*=10\n",
    "print(a)\n",
    "a-=50\n",
    "print(a)\n",
    "a/=10\n",
    "print(a)\n",
    "a%=10\n",
    "print(a)"
   ]
  },
  {
   "cell_type": "code",
   "execution_count": 29,
   "id": "fc9b2cf6",
   "metadata": {},
   "outputs": [
    {
     "name": "stdout",
     "output_type": "stream",
     "text": [
      "False\n",
      "False\n",
      "True\n",
      "True\n",
      "False\n",
      "True\n"
     ]
    }
   ],
   "source": [
    "# comparison operators(<,>,<=,>=,!=,==)\n",
    "\n",
    "a=11\n",
    "b=11\n",
    "print(a>b)\n",
    "print(a<b)\n",
    "print(a<=b)\n",
    "print(a>=b)\n",
    "print(a!=b)\n",
    "print(a==b)"
   ]
  },
  {
   "cell_type": "code",
   "execution_count": 30,
   "id": "612f5b1a",
   "metadata": {},
   "outputs": [
    {
     "name": "stdout",
     "output_type": "stream",
     "text": [
      "False\n",
      "True\n"
     ]
    }
   ],
   "source": [
    "# identity operators\n",
    "a=10\n",
    "b=20\n",
    "print( a is b)\n",
    "print(a is not b)"
   ]
  },
  {
   "cell_type": "code",
   "execution_count": 32,
   "id": "62efd75a",
   "metadata": {},
   "outputs": [
    {
     "name": "stdout",
     "output_type": "stream",
     "text": [
      "True\n",
      "False\n",
      "True\n"
     ]
    }
   ],
   "source": [
    "# membership opearator\n",
    "\n",
    "a=\"lalli\"\n",
    "print(\"l\" in a)\n",
    "print(\"j\" in a)\n",
    "print(\"b\" not in a)"
   ]
  },
  {
   "cell_type": "markdown",
   "id": "5265c78c",
   "metadata": {},
   "source": [
    "# Conditional statements\n",
    "## if --> checks for single case\n",
    "### syntax:\n",
    "             if(condition}:\n",
    "                 //statements\n",
    "             \n",
    "## if-else --> to check whether the given condition is true or false \n",
    "### syntax:\n",
    "            if(condition):\n",
    "                //statements\n",
    "            else:\n",
    "                //statements\n",
    "\n",
    "## nested-if --> if first condition is true it checks for inner if (or) else part (or) it returns the else part\n",
    "### syntax:\n",
    "            if(condition1):\n",
    "                //statements\n",
    "                if(condition2):\n",
    "                     //statements\n",
    "                else:\n",
    "                     //statements\n",
    "            else:\n",
    "                //statements\n",
    "                \n",
    "## elseif --> it checks n number of cases\n",
    "### syntax:\n",
    "            if(condition1):\n",
    "                //statements\n",
    "            elif(condition2):\n",
    "                //statements\n",
    "            elif(condition3):\n",
    "                //statements\n",
    "            else:\n",
    "                //statements\n",
    "            \n",
    "                \n",
    "                \n",
    "                "
   ]
  },
  {
   "cell_type": "code",
   "execution_count": 33,
   "id": "4a58768a",
   "metadata": {},
   "outputs": [
    {
     "name": "stdout",
     "output_type": "stream",
     "text": [
      "20 is big\n"
     ]
    }
   ],
   "source": [
    "# biggest of two numbers\n",
    "\n",
    "a=20\n",
    "b=10\n",
    "if(a>b):\n",
    "    print(\"{} is big\".format(a))\n",
    "else:\n",
    "    print(\"{} is big\".format(b))"
   ]
  },
  {
   "cell_type": "code",
   "execution_count": 36,
   "id": "29e78727",
   "metadata": {},
   "outputs": [
    {
     "name": "stdout",
     "output_type": "stream",
     "text": [
      "enter the AGE:21\n",
      "eligible for vote\n"
     ]
    }
   ],
   "source": [
    "# eligible to vote or not\n",
    "\n",
    "a=int(input(\"enter the AGE:\"))\n",
    "if(a>=18):\n",
    "    print(\"eligible for vote\")\n",
    "else:\n",
    "    print(\"not eligible for vote\")"
   ]
  },
  {
   "cell_type": "code",
   "execution_count": 41,
   "id": "45122531",
   "metadata": {},
   "outputs": [
    {
     "name": "stdout",
     "output_type": "stream",
     "text": [
      "5\n",
      "7\n",
      "8\n",
      "8\n"
     ]
    }
   ],
   "source": [
    "# biggest of three numbers\n",
    "\n",
    "a=int(input())\n",
    "b=int(input())\n",
    "c=int(input())\n",
    "if(a>b):\n",
    "    if(a>c):\n",
    "        print(a)\n",
    "    else:\n",
    "        print(c)\n",
    "else:\n",
    "    if(b>c):\n",
    "        print(b)\n",
    "    else:\n",
    "        print(c)"
   ]
  },
  {
   "cell_type": "code",
   "execution_count": 3,
   "id": "0d8673a9",
   "metadata": {},
   "outputs": [
    {
     "name": "stdout",
     "output_type": "stream",
     "text": [
      "Enter a number:9\n",
      "9 is Odd number\n"
     ]
    }
   ],
   "source": [
    "# check the given number is even or odd\n",
    "\n",
    "num=int(input(\"Enter a number:\"))\n",
    "if(num%2==0):\n",
    "    print(\"{} is Even number\".format(num))\n",
    "else:\n",
    "    print(\"{} is Odd number\".format(num))\n",
    "    \n",
    "       \n"
   ]
  },
  {
   "cell_type": "code",
   "execution_count": 5,
   "id": "831d9022",
   "metadata": {},
   "outputs": [
    {
     "name": "stdout",
     "output_type": "stream",
     "text": [
      "enter the num to check\n",
      "50\n",
      "enter the range\n",
      "100\n",
      "10\n",
      "num doesn't lies in the given range\n"
     ]
    }
   ],
   "source": [
    "# check the number is in the range\n",
    "\n",
    "print(\"enter the num to check\")\n",
    "a=int(input())\n",
    "print(\"enter the range\")\n",
    "b=int(input())\n",
    "c=int(input())\n",
    "\n",
    "if((a>=b) and (a<=c)):\n",
    "    print(\"num lies in the given range\")\n",
    "else:\n",
    "    print(\"num doesn't lies in the given range\")"
   ]
  },
  {
   "cell_type": "code",
   "execution_count": 1,
   "id": "0f721261",
   "metadata": {},
   "outputs": [
    {
     "name": "stdout",
     "output_type": "stream",
     "text": [
      "123 is equal to 123\n"
     ]
    }
   ],
   "source": [
    "# check if given number is equal to number or not\n",
    "\n",
    "s=\"123\"\n",
    "n=123\n",
    "if n==int(s):\n",
    "    print(n,\"is equal to\",s)\n",
    "else:\n",
    "    print(n,\"is not equal to\",s)"
   ]
  },
  {
   "cell_type": "code",
   "execution_count": null,
   "id": "1f5240ec",
   "metadata": {},
   "outputs": [],
   "source": []
  }
 ],
 "metadata": {
  "kernelspec": {
   "display_name": "Python 3",
   "language": "python",
   "name": "python3"
  },
  "language_info": {
   "codemirror_mode": {
    "name": "ipython",
    "version": 3
   },
   "file_extension": ".py",
   "mimetype": "text/x-python",
   "name": "python",
   "nbconvert_exporter": "python",
   "pygments_lexer": "ipython3",
   "version": "3.8.8"
  }
 },
 "nbformat": 4,
 "nbformat_minor": 5
}
