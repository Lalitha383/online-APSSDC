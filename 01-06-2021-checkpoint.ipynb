{
 "cells": [
  {
   "cell_type": "code",
   "execution_count": 7,
   "id": "b1642454",
   "metadata": {},
   "outputs": [
    {
     "name": "stdout",
     "output_type": "stream",
     "text": [
      " 👀\n",
      " 👀👀\n",
      " 👀👀👀\n",
      " 👀👀👀👀\n",
      " 👀👀👀👀👀\n",
      " 👀👀👀👀\n",
      " 👀👀👀\n",
      " 👀👀\n",
      " 👀\n"
     ]
    }
   ],
   "source": [
    "st=\" \"\n",
    "for i in range(1,10):\n",
    "    if i<=5:\n",
    "        st+=\"👀\"\n",
    "        print(st)\n",
    "    elif i>4:\n",
    "        st=st[:-1]\n",
    "        print(st)"
   ]
  },
  {
   "cell_type": "code",
   "execution_count": 15,
   "id": "6e0d603f",
   "metadata": {},
   "outputs": [
    {
     "name": "stdout",
     "output_type": "stream",
     "text": [
      "enter the string:lalli\n",
      "no.of words: 1\n"
     ]
    }
   ],
   "source": [
    "# to find number of words\n",
    "str =input(\"enter the string:\")\n",
    "str1= str.split()\n",
    "count= len(str1) \n",
    "print(\"no.of words:\",count)\n"
   ]
  },
  {
   "cell_type": "code",
   "execution_count": 16,
   "id": "cb07874a",
   "metadata": {},
   "outputs": [
    {
     "name": "stdout",
     "output_type": "stream",
     "text": [
      "Enteer the stringsanskruthi school\n",
      "1\n"
     ]
    }
   ],
   "source": [
    "#to find the number of words\n",
    "\n",
    "count=0\n",
    "s= input(\"Enteer the string\")\n",
    "for i in s:\n",
    "    if(i==' '):\n",
    "        count+=1\n",
    "print(count)"
   ]
  },
  {
   "cell_type": "code",
   "execution_count": 17,
   "id": "96681338",
   "metadata": {},
   "outputs": [
    {
     "name": "stdout",
     "output_type": "stream",
     "text": [
      "enter the stringlalli\n"
     ]
    }
   ],
   "source": [
    "s= input(\"enter the string\")\n",
    "out= ' '\n",
    "for i in s:\n",
    "    if(i.isalpha()):\n",
    "        ch=i\n",
    "        \n",
    "    else:\n",
    "        dig=i\n",
    "        print(ch* int(dig))"
   ]
  },
  {
   "cell_type": "code",
   "execution_count": 37,
   "id": "2b108cba",
   "metadata": {},
   "outputs": [
    {
     "name": "stdout",
     "output_type": "stream",
     "text": [
      "120\n"
     ]
    }
   ],
   "source": [
    "#wihtout arguement without return type\n",
    "\n",
    "def fact():\n",
    "    fact1=1\n",
    "    for i in range(1,6):\n",
    "        fact1= fact1*i\n",
    "    print(fact1)\n",
    "fact()\n"
   ]
  },
  {
   "cell_type": "code",
   "execution_count": 38,
   "id": "1d74d096",
   "metadata": {},
   "outputs": [
    {
     "name": "stdout",
     "output_type": "stream",
     "text": [
      "120\n"
     ]
    }
   ],
   "source": [
    "#with arg and without return\n",
    "def fact(n):\n",
    "    fact1=1\n",
    "    for i in range(1,n+1):\n",
    "        fact1= fact1*i\n",
    "    print(fact1)\n",
    "fact(5)"
   ]
  },
  {
   "cell_type": "code",
   "execution_count": 39,
   "id": "7aeeb8b4",
   "metadata": {},
   "outputs": [
    {
     "data": {
      "text/plain": [
       "120"
      ]
     },
     "execution_count": 39,
     "metadata": {},
     "output_type": "execute_result"
    }
   ],
   "source": [
    "#without arg with return\n",
    "def fact():\n",
    "    fact1=1\n",
    "    for i in range(1,6):\n",
    "        fact1= fact1*i\n",
    "    return fact1\n",
    "fact()"
   ]
  },
  {
   "cell_type": "code",
   "execution_count": 40,
   "id": "8d5f9afc",
   "metadata": {},
   "outputs": [
    {
     "data": {
      "text/plain": [
       "5040"
      ]
     },
     "execution_count": 40,
     "metadata": {},
     "output_type": "execute_result"
    }
   ],
   "source": [
    "#with arg with return\n",
    "def fact(n):\n",
    "    fact1=1\n",
    "    for i in range(1,n+1):\n",
    "        fact1= fact1*i\n",
    "    return fact1\n",
    "fact(7)"
   ]
  },
  {
   "cell_type": "code",
   "execution_count": 36,
   "id": "e6e616cd",
   "metadata": {},
   "outputs": [
    {
     "name": "stdout",
     "output_type": "stream",
     "text": [
      "my name is lalli and my role is student\n"
     ]
    }
   ],
   "source": [
    "def dfun(name,role):\n",
    "    print(\"my name is\", name, \"and my role is\", role)\n",
    "dfun(\"lalli\", \"student\")"
   ]
  },
  {
   "cell_type": "code",
   "execution_count": 35,
   "id": "bab77206",
   "metadata": {},
   "outputs": [
    {
     "name": "stdout",
     "output_type": "stream",
     "text": [
      "my name is lalli and my role is student\n"
     ]
    }
   ],
   "source": [
    "def keyword(name, role):\n",
    "    print(\"my name is\", name,\"and my role is\", role)\n",
    "keyword(name=\"lalli\", role=\"student\")"
   ]
  },
  {
   "cell_type": "code",
   "execution_count": 13,
   "id": "78a19d00",
   "metadata": {},
   "outputs": [
    {
     "name": "stdout",
     "output_type": "stream",
     "text": [
      "lalli\n",
      "alisha\n",
      "shyrmei\n",
      "uha\n"
     ]
    }
   ],
   "source": [
    "# Arbitary *keywords\n",
    "def keystar(*names):\n",
    "    for i in names:\n",
    "        print(i)\n",
    "keystar(\"lalli\",\"alisha\",\"shyrmei\",\"uha\")"
   ]
  },
  {
   "cell_type": "code",
   "execution_count": 12,
   "id": "9c67d4a4",
   "metadata": {},
   "outputs": [
    {
     "name": "stdout",
     "output_type": "stream",
     "text": [
      "vignan dvd\n"
     ]
    }
   ],
   "source": [
    "#Arbitary keywords\n",
    "def keystar(**names):\n",
    "    print(names[\"clg\"],names[\"add\"])\n",
    "keystar(clg=\"vignan\", add=\"dvd\")"
   ]
  },
  {
   "cell_type": "code",
   "execution_count": 18,
   "id": "ba50e5b5",
   "metadata": {},
   "outputs": [
    {
     "name": "stdout",
     "output_type": "stream",
     "text": [
      "120\n"
     ]
    }
   ],
   "source": [
    "# recursive function\n",
    "fact=1\n",
    "def factt(n):\n",
    "    if n==1:\n",
    "        return 1\n",
    "    else:\n",
    "        return n*factt(n-1)\n",
    "print(factt(5))"
   ]
  },
  {
   "cell_type": "markdown",
   "id": "3d7e3032",
   "metadata": {},
   "source": [
    "# Data Structures:\n",
    "* primitive data structures\n",
    "* integers\n",
    "* float\n",
    "* strings\n",
    "* boolean\n",
    "    \n",
    "## non-primitive data structures\n",
    "* lists\n",
    "* tuples\n",
    "* dictionaries\n",
    "* sets\n",
    "* files\n",
    "* arrays"
   ]
  },
  {
   "cell_type": "code",
   "execution_count": 21,
   "id": "23f31fdf",
   "metadata": {},
   "outputs": [
    {
     "ename": "NameError",
     "evalue": "name 'true' is not defined",
     "output_type": "error",
     "traceback": [
      "\u001b[1;31m---------------------------------------------------------------------------\u001b[0m",
      "\u001b[1;31mNameError\u001b[0m                                 Traceback (most recent call last)",
      "\u001b[1;32m<ipython-input-21-27cdbd64a33e>\u001b[0m in \u001b[0;36m<module>\u001b[1;34m\u001b[0m\n\u001b[0;32m      3\u001b[0m \u001b[0ma\u001b[0m\u001b[1;33m=\u001b[0m\u001b[1;36m12.5\u001b[0m\u001b[1;33m\u001b[0m\u001b[1;33m\u001b[0m\u001b[0m\n\u001b[0;32m      4\u001b[0m \u001b[0mtype\u001b[0m\u001b[1;33m(\u001b[0m\u001b[0ma\u001b[0m\u001b[1;33m)\u001b[0m\u001b[1;33m\u001b[0m\u001b[1;33m\u001b[0m\u001b[0m\n\u001b[1;32m----> 5\u001b[1;33m \u001b[0ma\u001b[0m\u001b[1;33m=\u001b[0m\u001b[0mtrue\u001b[0m\u001b[1;33m\u001b[0m\u001b[1;33m\u001b[0m\u001b[0m\n\u001b[0m",
      "\u001b[1;31mNameError\u001b[0m: name 'true' is not defined"
     ]
    }
   ],
   "source": [
    "a=10\n",
    "type(a)\n",
    "a=12.5\n",
    "type(a)\n",
    "a=true"
   ]
  },
  {
   "cell_type": "markdown",
   "id": "b95bde94",
   "metadata": {},
   "source": [
    "# list:\n",
    "* collection of elements or items\n",
    "* it is stored and retrieve ordered and indexed\n",
    "* represented [] separated by,\n",
    "* it allows duplicate items"
   ]
  },
  {
   "cell_type": "code",
   "execution_count": 31,
   "id": "ae92df0f",
   "metadata": {},
   "outputs": [
    {
     "data": {
      "text/plain": [
       "[2, 7.9, 'lallshere', True]"
      ]
     },
     "execution_count": 31,
     "metadata": {},
     "output_type": "execute_result"
    }
   ],
   "source": [
    "li=[2,7.9,\"lallshere\",True]\n",
    "li"
   ]
  },
  {
   "cell_type": "code",
   "execution_count": 27,
   "id": "ca7b3898",
   "metadata": {},
   "outputs": [
    {
     "data": {
      "text/plain": [
       "int"
      ]
     },
     "execution_count": 27,
     "metadata": {},
     "output_type": "execute_result"
    }
   ],
   "source": [
    "li=30\n",
    "type(li)"
   ]
  },
  {
   "cell_type": "code",
   "execution_count": 28,
   "id": "1ead8344",
   "metadata": {},
   "outputs": [
    {
     "data": {
      "text/plain": [
       "list"
      ]
     },
     "execution_count": 28,
     "metadata": {},
     "output_type": "execute_result"
    }
   ],
   "source": [
    "li=[]\n",
    "type(li)"
   ]
  },
  {
   "cell_type": "code",
   "execution_count": 53,
   "id": "cbefdeef",
   "metadata": {},
   "outputs": [
    {
     "name": "stdout",
     "output_type": "stream",
     "text": [
      "7.9\n",
      "lallshere\n",
      "[2, 7.9, 'lallshere']\n",
      "[7.9, 'lallshere', True]\n",
      "[True, 'lallshere', 7.9, 2]\n",
      "[2, 'lallshere']\n",
      "[7.9, True]\n"
     ]
    }
   ],
   "source": [
    "li=[2,7.9,\"lallshere\",True]\n",
    "li\n",
    "li # To access the entire list\n",
    "print(li[1])\n",
    "print(li[-2])\n",
    "print(li[-4:-1])\n",
    "print(li[1:])\n",
    "print(li[::-1])\n",
    "print(li[::2])\n",
    "print(li[1::2])"
   ]
  },
  {
   "cell_type": "code",
   "execution_count": 59,
   "id": "cc440bd3",
   "metadata": {},
   "outputs": [
    {
     "name": "stdout",
     "output_type": "stream",
     "text": [
      "[2, 4, 7, 8]\n",
      "[2, 7, 9]\n",
      "[4, 8, 5]\n",
      "[2, 4, 7, 8, 9, 5]\n",
      "[2, 4, 7, 8, 9, 5]\n",
      "[2, 7, 9]\n",
      "[2, 4, 7, 8, 9]\n"
     ]
    }
   ],
   "source": [
    "li=[2,4,7,8,9,5]\n",
    "print(li[-6:-2])\n",
    "print(li[::2])\n",
    "print(li[1::2])\n",
    "print(li[0:6])\n",
    "print(li[0:6:1])\n",
    "print(li[0:6:2])\n",
    "print(li[-6:-1:1])"
   ]
  },
  {
   "cell_type": "code",
   "execution_count": 60,
   "id": "51706caf",
   "metadata": {},
   "outputs": [
    {
     "name": "stdout",
     "output_type": "stream",
     "text": [
      "['__add__', '__class__', '__contains__', '__delattr__', '__delitem__', '__dir__', '__doc__', '__eq__', '__format__', '__ge__', '__getattribute__', '__getitem__', '__gt__', '__hash__', '__iadd__', '__imul__', '__init__', '__init_subclass__', '__iter__', '__le__', '__len__', '__lt__', '__mul__', '__ne__', '__new__', '__reduce__', '__reduce_ex__', '__repr__', '__reversed__', '__rmul__', '__setattr__', '__setitem__', '__sizeof__', '__str__', '__subclasshook__', 'append', 'clear', 'copy', 'count', 'extend', 'index', 'insert', 'pop', 'remove', 'reverse', 'sort']\n"
     ]
    }
   ],
   "source": [
    "print(dir(list))"
   ]
  },
  {
   "cell_type": "code",
   "execution_count": null,
   "id": "e8efa0e0",
   "metadata": {},
   "outputs": [],
   "source": []
  }
 ],
 "metadata": {
  "kernelspec": {
   "display_name": "Python 3",
   "language": "python",
   "name": "python3"
  },
  "language_info": {
   "codemirror_mode": {
    "name": "ipython",
    "version": 3
   },
   "file_extension": ".py",
   "mimetype": "text/x-python",
   "name": "python",
   "nbconvert_exporter": "python",
   "pygments_lexer": "ipython3",
   "version": "3.8.8"
  }
 },
 "nbformat": 4,
 "nbformat_minor": 5
}
