{
 "cells": [
  {
   "cell_type": "markdown",
   "id": "dfd44e01",
   "metadata": {},
   "source": [
    "# Initialization of loop\n",
    "# Conduction checking\n",
    "## Increment/Decrement\n",
    "\n",
    "### while\n",
    "### for loop\n",
    "### nested loop\n",
    "### loop control statements"
   ]
  },
  {
   "cell_type": "code",
   "execution_count": 1,
   "id": "1018076e",
   "metadata": {},
   "outputs": [
    {
     "name": "stdout",
     "output_type": "stream",
     "text": [
      "Good Afternoon\n",
      "Good Afternoon\n",
      "Good Afternoon\n",
      "Good Afternoon\n",
      "Good Afternoon\n",
      "Good Afternoon\n",
      "Good Afternoon\n",
      "Good Afternoon\n",
      "Good Afternoon\n",
      "Good Afternoon\n"
     ]
    }
   ],
   "source": [
    "print(\"Good Afternoon\")\n",
    "print(\"Good Afternoon\")\n",
    "print(\"Good Afternoon\")\n",
    "print(\"Good Afternoon\")\n",
    "print(\"Good Afternoon\")\n",
    "print(\"Good Afternoon\")\n",
    "print(\"Good Afternoon\")\n",
    "print(\"Good Afternoon\")\n",
    "print(\"Good Afternoon\")\n",
    "print(\"Good Afternoon\")"
   ]
  },
  {
   "cell_type": "code",
   "execution_count": 2,
   "id": "800fff45",
   "metadata": {},
   "outputs": [
    {
     "name": "stdout",
     "output_type": "stream",
     "text": [
      "Good Morning\n",
      "Good Morning\n",
      "Good Morning\n",
      "Good Morning\n",
      "Good Morning\n",
      "Good Morning\n",
      "Good Morning\n",
      "Good Morning\n",
      "Good Morning\n",
      "Good Morning\n",
      "\n"
     ]
    }
   ],
   "source": [
    "print(\"Good Morning\\n\"*10)"
   ]
  },
  {
   "cell_type": "code",
   "execution_count": 15,
   "id": "bdc0a095",
   "metadata": {},
   "outputs": [
    {
     "name": "stdout",
     "output_type": "stream",
     "text": [
      "0,1,2,3,4,5,6,7,8,9,10,"
     ]
    }
   ],
   "source": [
    "i=0\n",
    "while i<=10:\n",
    "    print(i,end=\",\")\n",
    "    i=i+1"
   ]
  },
  {
   "cell_type": "code",
   "execution_count": 34,
   "id": "dca3319c",
   "metadata": {},
   "outputs": [
    {
     "name": "stdout",
     "output_type": "stream",
     "text": [
      "10,9,8,7,6,5,4,3,2,1,0,"
     ]
    }
   ],
   "source": [
    "i=10\n",
    "while i>=0:\n",
    "    print(i,end=\",\")\n",
    "    i=i-1"
   ]
  },
  {
   "cell_type": "code",
   "execution_count": 33,
   "id": "f18823ac",
   "metadata": {},
   "outputs": [
    {
     "name": "stdout",
     "output_type": "stream",
     "text": [
      "0,2,4,6,8,10,"
     ]
    }
   ],
   "source": [
    "i=0\n",
    "while i<=10:\n",
    "    if i%2==0:\n",
    "        print(i,end=\",\")\n",
    "    i=i+1"
   ]
  },
  {
   "cell_type": "code",
   "execution_count": 11,
   "id": "b3904014",
   "metadata": {},
   "outputs": [
    {
     "name": "stdout",
     "output_type": "stream",
     "text": [
      "Even num is : 0\n",
      "Odd num is : 1\n",
      "Even num is : 2\n",
      "Odd num is : 3\n",
      "Even num is : 4\n",
      "Odd num is : 5\n",
      "Even num is : 6\n",
      "Odd num is : 7\n",
      "Even num is : 8\n",
      "Odd num is : 9\n",
      "Even num is : 10\n"
     ]
    }
   ],
   "source": [
    "i=0\n",
    "while i<=10:\n",
    "    if i%2==0:\n",
    "        print(\"Even num is :\",i)\n",
    "    else:\n",
    "        print(\"Odd num is :\",i)\n",
    "    i=i+1"
   ]
  },
  {
   "cell_type": "code",
   "execution_count": 2,
   "id": "04813853",
   "metadata": {},
   "outputs": [
    {
     "name": "stdout",
     "output_type": "stream",
     "text": [
      "\n",
      "*\n",
      "**\n",
      "***\n",
      "****\n",
      "*****\n",
      "******\n",
      "*******\n",
      "********\n",
      "*********\n",
      "**********\n"
     ]
    }
   ],
   "source": [
    "i=0\n",
    "while i<=10:\n",
    "    print(\"*\"*i)\n",
    "    i=i+1"
   ]
  },
  {
   "cell_type": "code",
   "execution_count": 1,
   "id": "13857567",
   "metadata": {},
   "outputs": [
    {
     "name": "stdout",
     "output_type": "stream",
     "text": [
      "**********\n",
      "*********\n",
      "********\n",
      "*******\n",
      "******\n",
      "*****\n",
      "****\n",
      "***\n",
      "**\n",
      "*\n",
      "\n"
     ]
    }
   ],
   "source": [
    "i=10\n",
    "while i>=0:\n",
    "    print(\"*\"*i)\n",
    "    i=i-1"
   ]
  },
  {
   "cell_type": "code",
   "execution_count": 5,
   "id": "c4dc0d10",
   "metadata": {},
   "outputs": [
    {
     "name": "stdout",
     "output_type": "stream",
     "text": [
      "\n",
      "😊\n",
      "😊😊\n",
      "😊😊😊\n",
      "😊😊😊😊\n",
      "😊😊😊😊😊\n"
     ]
    }
   ],
   "source": [
    "i=0\n",
    "while i<=5:\n",
    "    print(\"😊\"*i)\n",
    "    i=i+1"
   ]
  },
  {
   "cell_type": "code",
   "execution_count": 6,
   "id": "88d5d204",
   "metadata": {},
   "outputs": [
    {
     "name": "stdout",
     "output_type": "stream",
     "text": [
      "😊😊😊😊😊\n",
      "😊😊😊😊\n",
      "😊😊😊\n",
      "😊😊\n",
      "😊\n",
      "\n"
     ]
    }
   ],
   "source": [
    "i=5\n",
    "while i>=0:\n",
    "    print(\"😊\"*i)\n",
    "    i=i-1"
   ]
  },
  {
   "cell_type": "code",
   "execution_count": 6,
   "id": "a6615c87",
   "metadata": {},
   "outputs": [
    {
     "name": "stdout",
     "output_type": "stream",
     "text": [
      "\n",
      "😜\n",
      "😜😜\n",
      "😜😜😜\n",
      "😜😜😜😜\n",
      "😜😜😜😜😜\n",
      "😜😜😜😜😜😜\n",
      "😜😜😜😜😜😜😜\n",
      "😜😜😜😜😜😜\n",
      "😜😜😜😜😜\n",
      "😜😜😜😜\n",
      "😜😜😜\n",
      "😜😜\n",
      "😜\n",
      "\n"
     ]
    }
   ],
   "source": [
    "i=0\n",
    "while i<=6:\n",
    "    print(\"😜\"*i)\n",
    "    i=i+1\n",
    "    \n",
    "while i>=0:\n",
    "    print(\"😜\"*i)\n",
    "    i=i-1"
   ]
  },
  {
   "cell_type": "code",
   "execution_count": 2,
   "id": "c49b2433",
   "metadata": {},
   "outputs": [
    {
     "name": "stdout",
     "output_type": "stream",
     "text": [
      "enter the number:7\n",
      "1,2,3,4,5,6,7,summ of given numbers 28\n"
     ]
    }
   ],
   "source": [
    "n = int(input(\"enter the number:\"))\n",
    "summ=0\n",
    "i=1\n",
    "while i<=n:\n",
    "    print(i,end=\",\")\n",
    "    summ=summ+i\n",
    "    i=i+1\n",
    "print(\"summ of given numbers\",summ)"
   ]
  },
  {
   "cell_type": "code",
   "execution_count": 1,
   "id": "16d16e49",
   "metadata": {},
   "outputs": [
    {
     "name": "stdout",
     "output_type": "stream",
     "text": [
      "Enter a num:5\n",
      "1\n",
      "2\n",
      "3\n",
      "4\n",
      "5\n",
      "120\n"
     ]
    }
   ],
   "source": [
    "num=int(input(\"Enter a num:\"))\n",
    "fact=1\n",
    "i=1\n",
    "while i<=num:\n",
    "    fact=fact*i\n",
    "    print(i)\n",
    "    i=i+1\n",
    "print(fact)\n"
   ]
  },
  {
   "cell_type": "markdown",
   "id": "eb268d00",
   "metadata": {},
   "source": [
    "# Loop control statements\n",
    "## break\n",
    "## continue\n",
    "## pass"
   ]
  },
  {
   "cell_type": "code",
   "execution_count": 4,
   "id": "e8703bc3",
   "metadata": {},
   "outputs": [
    {
     "name": "stdout",
     "output_type": "stream",
     "text": [
      "2\n",
      "3\n"
     ]
    }
   ],
   "source": [
    "i=1\n",
    "while i<=5:\n",
    "    if i==3:\n",
    "        break\n",
    "    i=i+1\n",
    "    print(i)\n",
    "    "
   ]
  },
  {
   "cell_type": "code",
   "execution_count": 5,
   "id": "f96dc07c",
   "metadata": {},
   "outputs": [
    {
     "name": "stdout",
     "output_type": "stream",
     "text": [
      "2\n",
      "4\n",
      "5\n",
      "6\n",
      "7\n",
      "8\n",
      "9\n",
      "10\n"
     ]
    }
   ],
   "source": [
    "i=1\n",
    "while i<10:\n",
    "    i=i+1\n",
    "    if i==3:\n",
    "        continue\n",
    "    print(i)"
   ]
  },
  {
   "cell_type": "markdown",
   "id": "88fb58ee",
   "metadata": {},
   "source": [
    "# start value for loop\n",
    "# end value for loop\n",
    "# step inc/dec\n",
    "## for kl in(0,10,2):\n",
    "## for kl range(0,10,2):"
   ]
  },
  {
   "cell_type": "code",
   "execution_count": 9,
   "id": "4f25edda",
   "metadata": {},
   "outputs": [
    {
     "name": "stdout",
     "output_type": "stream",
     "text": [
      "0\n",
      "10\n",
      "2\n"
     ]
    }
   ],
   "source": [
    "for vignan in(0,10,2):\n",
    "    print(vignan)"
   ]
  },
  {
   "cell_type": "code",
   "execution_count": 19,
   "id": "1e39727d",
   "metadata": {},
   "outputs": [
    {
     "name": "stdout",
     "output_type": "stream",
     "text": [
      "10,12,14,16,18,20,22,24,26,28,30,32,34,36,38,40,42,44,46,48,50,52,54,56,58,60,62,64,66,68,70,72,74,76,78,80,82,84,86,88,90,92,94,96,98,"
     ]
    }
   ],
   "source": [
    "for i in range(10,100,2):\n",
    "    print(i,end=\",\")\n",
    "    "
   ]
  },
  {
   "cell_type": "code",
   "execution_count": 24,
   "id": "2b5bbfeb",
   "metadata": {},
   "outputs": [
    {
     "name": "stdout",
     "output_type": "stream",
     "text": [
      "500,502,504,506,508,510,512,514,516,518,520,522,524,526,528,530,532,534,536,538,540,542,544,546,548,550,552,554,556,558,560,562,564,566,568,570,572,574,576,578,580,582,584,586,588,590,592,594,596,598,600,602,604,606,608,610,612,614,616,618,620,622,624,626,628,630,632,634,636,638,640,642,644,646,648,650,652,654,656,658,660,662,664,666,668,670,672,674,676,678,680,682,684,686,688,690,692,694,696,698,700,702,704,706,708,710,712,714,716,718,720,722,724,726,728,730,732,734,736,738,740,742,744,746,748,750,752,754,756,758,760,762,764,766,768,770,772,774,776,778,780,782,784,786,788,790,792,794,796,798,800,802,804,806,808,810,812,814,816,818,820,822,824,826,828,830,832,834,836,838,840,842,844,846,848,850,852,854,856,858,860,862,864,866,868,870,872,874,876,878,880,882,884,886,888,890,892,894,896,898,900,902,904,906,908,910,912,914,916,918,920,922,924,926,928,930,932,934,936,938,940,942,944,946,948,950,952,954,956,958,960,962,964,966,968,970,972,974,976,978,980,982,984,986,988,990,992,994,996,998,1000,"
     ]
    }
   ],
   "source": [
    "for i in range(500,1000+1,2):\n",
    "    print(i,end=\",\")"
   ]
  },
  {
   "cell_type": "code",
   "execution_count": 26,
   "id": "8e1bf7bd",
   "metadata": {},
   "outputs": [
    {
     "name": "stdout",
     "output_type": "stream",
     "text": [
      "100,98,96,94,92,90,88,86,84,82,80,78,76,74,72,70,68,66,64,62,60,58,56,54,52,50,48,46,44,42,40,38,36,34,32,30,28,26,24,22,20,18,16,14,12,"
     ]
    }
   ],
   "source": [
    "for i in range(100,10,-2):\n",
    "    print(i,end=\",\")\n"
   ]
  },
  {
   "cell_type": "code",
   "execution_count": 58,
   "id": "f590f5c2",
   "metadata": {},
   "outputs": [
    {
     "name": "stdout",
     "output_type": "stream",
     "text": [
      "Good Afternoon,Good Afternoon,Good Afternoon,Good Afternoon,Good Afternoon,Good Afternoon,Good Afternoon,Good Afternoon,Good Afternoon,Good Afternoon,Good Afternoon,Good Afternoon,Good Afternoon,Good Afternoon,Good Afternoon,Good Afternoon,Good Afternoon,Good Afternoon,Good Afternoon,Good Afternoon,Good Afternoon,Good Afternoon,Good Afternoon,Good Afternoon,Good Afternoon,Good Afternoon,Good Afternoon,Good Afternoon,Good Afternoon,Good Afternoon,Good Afternoon,Good Afternoon,Good Afternoon,Good Afternoon,Good Afternoon,Good Afternoon,Good Afternoon,Good Afternoon,Good Afternoon,Good Afternoon,Good Afternoon,Good Afternoon,Good Afternoon,Good Afternoon,Good Afternoon,Good Afternoon,Good Afternoon,Good Afternoon,Good Afternoon,Good Afternoon,Good Afternoon,Good Afternoon,Good Afternoon,Good Afternoon,Good Afternoon,Good Afternoon,Good Afternoon,Good Afternoon,Good Afternoon,Good Afternoon,Good Afternoon,Good Afternoon,Good Afternoon,Good Afternoon,Good Afternoon,Good Afternoon,Good Afternoon,Good Afternoon,Good Afternoon,Good Afternoon,Good Afternoon,Good Afternoon,Good Afternoon,Good Afternoon,Good Afternoon,Good Afternoon,Good Afternoon,Good Afternoon,Good Afternoon,Good Afternoon,Good Afternoon,Good Afternoon,Good Afternoon,Good Afternoon,Good Afternoon,Good Afternoon,Good Afternoon,Good Afternoon,Good Afternoon,Good Afternoon,Good Afternoon,Good Afternoon,Good Afternoon,Good Afternoon,Good Afternoon,Good Afternoon,Good Afternoon,Good Afternoon,Good Afternoon,Good Afternoon,"
     ]
    }
   ],
   "source": [
    "for i in range(100):\n",
    "    print(\"Good Afternoon\",end=\",\")"
   ]
  },
  {
   "cell_type": "code",
   "execution_count": 52,
   "id": "8d9e982b",
   "metadata": {},
   "outputs": [
    {
     "name": "stdout",
     "output_type": "stream",
     "text": [
      "100,98,96,94,92,90,88,86,84,82,80,78,76,74,72,70,68,66,64,62,60,58,56,54,52,50,48,46,44,42,40,38,36,34,32,30,28,26,24,22,20,18,16,14,12,10,"
     ]
    }
   ],
   "source": [
    "for i in reversed(range(10,101,2)):\n",
    "    print(i,end=\",\")"
   ]
  },
  {
   "cell_type": "code",
   "execution_count": null,
   "id": "f98b05be",
   "metadata": {},
   "outputs": [],
   "source": []
  }
 ],
 "metadata": {
  "kernelspec": {
   "display_name": "Python 3",
   "language": "python",
   "name": "python3"
  },
  "language_info": {
   "codemirror_mode": {
    "name": "ipython",
    "version": 3
   },
   "file_extension": ".py",
   "mimetype": "text/x-python",
   "name": "python",
   "nbconvert_exporter": "python",
   "pygments_lexer": "ipython3",
   "version": "3.8.8"
  }
 },
 "nbformat": 4,
 "nbformat_minor": 5
}
