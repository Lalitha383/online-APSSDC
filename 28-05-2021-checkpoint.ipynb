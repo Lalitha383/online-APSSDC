{
 "cells": [
  {
   "cell_type": "markdown",
   "id": "dfd44e01",
   "metadata": {},
   "source": [
    "# Initialization of loop\n",
    "# Conduction checking\n",
    "## Increment/Decrement\n",
    "\n",
    "### while\n",
    "### for loop\n",
    "### nested loop\n",
    "### loop control statements"
   ]
  },
  {
   "cell_type": "code",
   "execution_count": 1,
   "id": "1018076e",
   "metadata": {},
   "outputs": [
    {
     "name": "stdout",
     "output_type": "stream",
     "text": [
      "Good Afternoon\n",
      "Good Afternoon\n",
      "Good Afternoon\n",
      "Good Afternoon\n",
      "Good Afternoon\n",
      "Good Afternoon\n",
      "Good Afternoon\n",
      "Good Afternoon\n",
      "Good Afternoon\n",
      "Good Afternoon\n"
     ]
    }
   ],
   "source": [
    "print(\"Good Afternoon\")\n",
    "print(\"Good Afternoon\")\n",
    "print(\"Good Afternoon\")\n",
    "print(\"Good Afternoon\")\n",
    "print(\"Good Afternoon\")\n",
    "print(\"Good Afternoon\")\n",
    "print(\"Good Afternoon\")\n",
    "print(\"Good Afternoon\")\n",
    "print(\"Good Afternoon\")\n",
    "print(\"Good Afternoon\")"
   ]
  },
  {
   "cell_type": "code",
   "execution_count": 2,
   "id": "800fff45",
   "metadata": {},
   "outputs": [
    {
     "name": "stdout",
     "output_type": "stream",
     "text": [
      "Good Morning\n",
      "Good Morning\n",
      "Good Morning\n",
      "Good Morning\n",
      "Good Morning\n",
      "Good Morning\n",
      "Good Morning\n",
      "Good Morning\n",
      "Good Morning\n",
      "Good Morning\n",
      "\n"
     ]
    }
   ],
   "source": [
    "print(\"Good Morning\\n\"*10)"
   ]
  },
  {
   "cell_type": "code",
   "execution_count": 15,
   "id": "bdc0a095",
   "metadata": {},
   "outputs": [
    {
     "name": "stdout",
     "output_type": "stream",
     "text": [
      "0,1,2,3,4,5,6,7,8,9,10,"
     ]
    }
   ],
   "source": [
    "i=0\n",
    "while i<=10:\n",
    "    print(i,end=\",\")\n",
    "    i=i+1"
   ]
  },
  {
   "cell_type": "code",
   "execution_count": 1,
   "id": "dca3319c",
   "metadata": {},
   "outputs": [
    {
     "name": "stdout",
     "output_type": "stream",
     "text": [
      "10\n",
      "9\n",
      "8\n",
      "7\n",
      "6\n",
      "5\n",
      "4\n",
      "3\n",
      "2\n",
      "1\n",
      "0\n"
     ]
    }
   ],
   "source": [
    "i=10\n",
    "while i>=0:\n",
    "    print(i)\n",
    "    i=i-1"
   ]
  },
  {
   "cell_type": "code",
   "execution_count": null,
   "id": "583247b0",
   "metadata": {},
   "outputs": [],
   "source": [
    "i=0\n",
    "while (i<=10):\n",
    "    i+=2\n",
    "    print(i)\n"
   ]
  },
  {
   "cell_type": "code",
   "execution_count": null,
   "id": "f18823ac",
   "metadata": {},
   "outputs": [],
   "source": [
    "i=0\n",
    "while (i<=10):\n",
    "    if i%2==0:\n",
    "        print(i)\n",
    "        i=i+1"
   ]
  },
  {
   "cell_type": "code",
   "execution_count": null,
   "id": "b3904014",
   "metadata": {},
   "outputs": [],
   "source": [
    "i=0\n",
    "while i<10:\n",
    "    if (i%2==0):\n",
    "        print(\"Even num is\",i)\n",
    "    else:\n",
    "        print(\"Odd num is\",i)\n",
    "        i=i+1"
   ]
  },
  {
   "cell_type": "code",
   "execution_count": null,
   "id": "04813853",
   "metadata": {},
   "outputs": [],
   "source": [
    "i=0\n",
    "while i<=5:\n",
    "    print(\"*\"*i)\n",
    "    i=i+1"
   ]
  }
 ],
 "metadata": {
  "kernelspec": {
   "display_name": "Python 3",
   "language": "python",
   "name": "python3"
  },
  "language_info": {
   "codemirror_mode": {
    "name": "ipython",
    "version": 3
   },
   "file_extension": ".py",
   "mimetype": "text/x-python",
   "name": "python",
   "nbconvert_exporter": "python",
   "pygments_lexer": "ipython3",
   "version": "3.8.8"
  }
 },
 "nbformat": 4,
 "nbformat_minor": 5
}
