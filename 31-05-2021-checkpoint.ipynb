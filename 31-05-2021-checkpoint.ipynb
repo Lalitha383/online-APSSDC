{
 "cells": [
  {
   "cell_type": "code",
   "execution_count": 23,
   "id": "6cf1b435",
   "metadata": {},
   "outputs": [
    {
     "name": "stdout",
     "output_type": "stream",
     "text": [
      "good afternoon\n",
      "14\n",
      "t\n"
     ]
    }
   ],
   "source": [
    "s2=\"good afternoon\"\n",
    "print(s2)\n",
    "print(len(s2))\n",
    "print(s2[len(s2)//2])"
   ]
  },
  {
   "cell_type": "code",
   "execution_count": 13,
   "id": "08b3f7e8",
   "metadata": {},
   "outputs": [
    {
     "name": "stdout",
     "output_type": "stream",
     "text": [
      "['__add__', '__class__', '__contains__', '__delattr__', '__dir__', '__doc__', '__eq__', '__format__', '__ge__', '__getattribute__', '__getitem__', '__getnewargs__', '__gt__', '__hash__', '__init__', '__init_subclass__', '__iter__', '__le__', '__len__', '__lt__', '__mod__', '__mul__', '__ne__', '__new__', '__reduce__', '__reduce_ex__', '__repr__', '__rmod__', '__rmul__', '__setattr__', '__sizeof__', '__str__', '__subclasshook__', 'capitalize', 'casefold', 'center', 'count', 'encode', 'endswith', 'expandtabs', 'find', 'format', 'format_map', 'index', 'isalnum', 'isalpha', 'isascii', 'isdecimal', 'isdigit', 'isidentifier', 'islower', 'isnumeric', 'isprintable', 'isspace', 'istitle', 'isupper', 'join', 'ljust', 'lower', 'lstrip', 'maketrans', 'partition', 'replace', 'rfind', 'rindex', 'rjust', 'rpartition', 'rsplit', 'rstrip', 'split', 'splitlines', 'startswith', 'strip', 'swapcase', 'title', 'translate', 'upper', 'zfill']\n"
     ]
    }
   ],
   "source": [
    "print(dir(str))"
   ]
  },
  {
   "cell_type": "code",
   "execution_count": 25,
   "id": "4347df9a",
   "metadata": {},
   "outputs": [
    {
     "name": "stdout",
     "output_type": "stream",
     "text": [
      "GoodAfternoon\n",
      "False\n"
     ]
    }
   ],
   "source": [
    "a=\"Good\"\n",
    "b=\"Afternoon\"\n",
    "c=a.__add__(b)\n",
    "print(c)\n",
    "d=a.__eq__(b)\n",
    "print(d)"
   ]
  },
  {
   "cell_type": "code",
   "execution_count": 22,
   "id": "d00d4b6a",
   "metadata": {},
   "outputs": [
    {
     "name": "stdout",
     "output_type": "stream",
     "text": [
      "['had', 'ur', 'lunch?']\n"
     ]
    }
   ],
   "source": [
    "l=\"had ur lunch?\"\n",
    "c=l.split()\n",
    "print(c)"
   ]
  },
  {
   "cell_type": "code",
   "execution_count": 36,
   "id": "b55908ce",
   "metadata": {},
   "outputs": [
    {
     "name": "stdout",
     "output_type": "stream",
     "text": [
      "Good&Afternoon\n"
     ]
    }
   ],
   "source": [
    "l=\"Good Afternoon\"\n",
    "c=l.split()\n",
    "g=\"&\".join(c)\n",
    "print(g)"
   ]
  },
  {
   "cell_type": "code",
   "execution_count": 39,
   "id": "0355d543",
   "metadata": {},
   "outputs": [
    {
     "name": "stdout",
     "output_type": "stream",
     "text": [
      "V I e W\n"
     ]
    }
   ],
   "source": [
    "a=\"V I E W\"\n",
    "b=a.replace('E',\"e\")\n",
    "print(b)"
   ]
  },
  {
   "cell_type": "code",
   "execution_count": 44,
   "id": "183a5c7b",
   "metadata": {},
   "outputs": [
    {
     "name": "stdout",
     "output_type": "stream",
     "text": [
      "enter a string:mom\n",
      "is palindrome\n"
     ]
    }
   ],
   "source": [
    "#palindrome 121 mom dad 606 707 101\n",
    "l=input(\"enter a string:\")\n",
    "c=l[::-1]\n",
    "if(l==c):\n",
    "    print(\"is palindrome\")\n",
    "else:\n",
    "    print(\"not palindrome\")"
   ]
  },
  {
   "cell_type": "code",
   "execution_count": 53,
   "id": "7d0adb1c",
   "metadata": {},
   "outputs": [
    {
     "name": "stdout",
     "output_type": "stream",
     "text": [
      "alphabets  goodmorninghelloworldbyebye\n",
      "even number  4624680\n",
      "odd number  35713579\n"
     ]
    }
   ],
   "source": [
    "l=\"good3morning4hello5world6bye7bye1234567890\"\n",
    "a=\" \"\n",
    "odd=\" \"\n",
    "even=\" \"\n",
    "for i in l:\n",
    "    if i.isalpha():\n",
    "        a+=i\n",
    "    elif int(i)%2==0:\n",
    "        even+=i\n",
    "    else:\n",
    "        odd+=i\n",
    "print(\"alphabets\",a)\n",
    "print(\"even number\",even)\n",
    "print(\"odd number\",odd)\n"
   ]
  },
  {
   "cell_type": "code",
   "execution_count": 57,
   "id": "fd9fd432",
   "metadata": {},
   "outputs": [
    {
     "name": "stdout",
     "output_type": "stream",
     "text": [
      "2\n"
     ]
    }
   ],
   "source": [
    "l=\"hello\"\n",
    "count=0\n",
    "for i in l:\n",
    "    if i==\"l\":\n",
    "        count=count+1\n",
    "print(count)"
   ]
  },
  {
   "cell_type": "markdown",
   "id": "79cc2164",
   "metadata": {},
   "source": [
    "# functions\n",
    "## body of the function\n",
    "### function name()"
   ]
  },
  {
   "cell_type": "code",
   "execution_count": 59,
   "id": "74b1e273",
   "metadata": {},
   "outputs": [
    {
     "name": "stdout",
     "output_type": "stream",
     "text": [
      "30\n"
     ]
    }
   ],
   "source": [
    "def add():\n",
    "    a=10\n",
    "    b=20\n",
    "    c=a+b\n",
    "    print(c)\n",
    "add()"
   ]
  },
  {
   "cell_type": "code",
   "execution_count": 61,
   "id": "db8a2527",
   "metadata": {},
   "outputs": [
    {
     "name": "stdout",
     "output_type": "stream",
     "text": [
      "30\n"
     ]
    }
   ],
   "source": [
    "def sub():\n",
    "    a=50\n",
    "    b=20\n",
    "    c=a-b\n",
    "    print(c)\n",
    "sub()"
   ]
  },
  {
   "cell_type": "code",
   "execution_count": 66,
   "id": "23e9d48e",
   "metadata": {},
   "outputs": [
    {
     "name": "stdout",
     "output_type": "stream",
     "text": [
      "4\n"
     ]
    }
   ],
   "source": [
    "def mul():\n",
    "    a=2\n",
    "    b=2\n",
    "    c=a*b\n",
    "    print(c)\n",
    "mul()"
   ]
  },
  {
   "cell_type": "code",
   "execution_count": 67,
   "id": "7c9e71d1",
   "metadata": {},
   "outputs": [
    {
     "name": "stdout",
     "output_type": "stream",
     "text": [
      "0.625\n"
     ]
    }
   ],
   "source": [
    "def div():\n",
    "    a=5\n",
    "    b=8\n",
    "    c=a/b\n",
    "    print(c)\n",
    "div()"
   ]
  },
  {
   "cell_type": "code",
   "execution_count": 71,
   "id": "ea5f868d",
   "metadata": {},
   "outputs": [
    {
     "name": "stdout",
     "output_type": "stream",
     "text": [
      "6\n",
      "1\n",
      "2\n",
      "6\n",
      "24\n",
      "120\n",
      "720\n"
     ]
    }
   ],
   "source": [
    "#factorial\n",
    "def fact():\n",
    "    a=int(input())\n",
    "    fac=1\n",
    "    i=1\n",
    "    while i<=a:\n",
    "        fac=fac*i\n",
    "        print(fac)\n",
    "        i=i+1\n",
    "fact()"
   ]
  },
  {
   "cell_type": "markdown",
   "id": "c9cc1aa5",
   "metadata": {},
   "source": [
    "# Types of functions\n",
    "## 1.without arg and without return value\n",
    "## 2.with arg and without return value\n",
    "## 3.without arg and with return value\n",
    "## 4.with arg and with return value\n"
   ]
  },
  {
   "cell_type": "code",
   "execution_count": 72,
   "id": "48cf8f07",
   "metadata": {},
   "outputs": [
    {
     "name": "stdout",
     "output_type": "stream",
     "text": [
      "1\n",
      "2\n",
      "6\n",
      "24\n",
      "120\n"
     ]
    }
   ],
   "source": [
    "# without arg and without return value\n",
    "def fact():\n",
    "    fac=1\n",
    "    for i in range(1,6):\n",
    "        fac=fac*i\n",
    "        print(fac)\n",
    "fact()"
   ]
  },
  {
   "cell_type": "code",
   "execution_count": 73,
   "id": "790daad8",
   "metadata": {},
   "outputs": [
    {
     "data": {
      "text/plain": [
       "120"
      ]
     },
     "execution_count": 73,
     "metadata": {},
     "output_type": "execute_result"
    }
   ],
   "source": [
    "# without arg and with return value\n",
    "def fact():\n",
    "    fac=1\n",
    "    for i in range(1,6):\n",
    "        fac=fac*i\n",
    "    return fac \n",
    "    print(fac)\n",
    "fact()"
   ]
  },
  {
   "cell_type": "code",
   "execution_count": 74,
   "id": "edbbbf51",
   "metadata": {},
   "outputs": [
    {
     "data": {
      "text/plain": [
       "120"
      ]
     },
     "execution_count": 74,
     "metadata": {},
     "output_type": "execute_result"
    }
   ],
   "source": [
    "# with arg and with return value\n",
    "def fact(n):\n",
    "    fac=1\n",
    "    for i in range(1,n+1):\n",
    "        fac=fac*i\n",
    "    return fac \n",
    "    print(fac)\n",
    "fact(5)"
   ]
  },
  {
   "cell_type": "code",
   "execution_count": 75,
   "id": "838ebc16",
   "metadata": {},
   "outputs": [
    {
     "name": "stdout",
     "output_type": "stream",
     "text": [
      "1\n",
      "2\n",
      "6\n",
      "24\n",
      "120\n",
      "720\n"
     ]
    }
   ],
   "source": [
    "# with arg and without return value\n",
    "def fact(n):\n",
    "    fac=1\n",
    "    for i in range(1,n+1):\n",
    "        fac=fac*i\n",
    "        print(fac)\n",
    "fact(6)"
   ]
  },
  {
   "cell_type": "code",
   "execution_count": null,
   "id": "1059ead5",
   "metadata": {},
   "outputs": [],
   "source": []
  }
 ],
 "metadata": {
  "kernelspec": {
   "display_name": "Python 3",
   "language": "python",
   "name": "python3"
  },
  "language_info": {
   "codemirror_mode": {
    "name": "ipython",
    "version": 3
   },
   "file_extension": ".py",
   "mimetype": "text/x-python",
   "name": "python",
   "nbconvert_exporter": "python",
   "pygments_lexer": "ipython3",
   "version": "3.8.8"
  }
 },
 "nbformat": 4,
 "nbformat_minor": 5
}
